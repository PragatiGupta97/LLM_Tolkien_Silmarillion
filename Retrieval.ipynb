{
 "cells": [
  {
   "cell_type": "code",
   "execution_count": 1,
   "metadata": {},
   "outputs": [],
   "source": [
    "from lang_funcs import *\n",
    "from langchain.llms import Ollama\n",
    "from langchain import PromptTemplate"
   ]
  },
  {
   "cell_type": "code",
   "execution_count": 2,
   "metadata": {},
   "outputs": [
    {
     "name": "stderr",
     "output_type": "stream",
     "text": [
      "/Users/pragatigupta/anaconda3/lib/python3.11/site-packages/tqdm/auto.py:21: TqdmWarning: IProgress not found. Please update jupyter and ipywidgets. See https://ipywidgets.readthedocs.io/en/stable/user_install.html\n",
      "  from .autonotebook import tqdm as notebook_tqdm\n"
     ]
    }
   ],
   "source": [
    "# Loading orca-mini from Ollama\n",
    "llm = Ollama(model=\"mistral\", temperature=0)\n",
    "\n",
    "# Loading the Embedding Model\n",
    "embed = load_embedding_model(model_path=\"all-MiniLM-L6-v2\")"
   ]
  },
  {
   "cell_type": "code",
   "execution_count": 3,
   "metadata": {},
   "outputs": [],
   "source": [
    "# loading and splitting the documents\n",
    "docs = load_pdf_data(file_path=\"The_Silmarillion.pdf\")\n",
    "documents = split_docs(documents=docs)\n",
    "\n",
    "# creating vectorstore\n",
    "vectorstore = create_embeddings(documents, embed)\n",
    "\n",
    "# converting vectorstore to a retriever\n",
    "retriever = vectorstore.as_retriever()"
   ]
  },
  {
   "cell_type": "code",
   "execution_count": 4,
   "metadata": {},
   "outputs": [],
   "source": [
    "template = \"\"\"\n",
    "### System:\n",
    "You are an respectful and honest assistant. You have to answer the user's questions using only the context \\\n",
    "provided to you. If you don't know the answer, just say you don't know. Don't try to make up an answer.\n",
    "\n",
    "### Context:\n",
    "{context}\n",
    "\n",
    "### User:\n",
    "{question}\n",
    "\n",
    "### Response:\n",
    "\"\"\"\n",
    "\n",
    "prompt = PromptTemplate.from_template(template)"
   ]
  },
  {
   "cell_type": "code",
   "execution_count": 5,
   "metadata": {},
   "outputs": [],
   "source": [
    "# Creating the prompt from the template which we created before\n",
    "prompt = PromptTemplate.from_template(template)\n",
    "\n",
    "# Creating the chain\n",
    "chain = load_qa_chain(retriever, llm, prompt)"
   ]
  },
  {
   "cell_type": "code",
   "execution_count": 6,
   "metadata": {},
   "outputs": [],
   "source": [
    "chain = load_qa_chain(retriever, llm, prompt)"
   ]
  },
  {
   "cell_type": "code",
   "execution_count": 7,
   "metadata": {},
   "outputs": [
    {
     "name": "stderr",
     "output_type": "stream",
     "text": [
      "/Users/pragatigupta/anaconda3/lib/python3.11/site-packages/langchain_core/_api/deprecation.py:117: LangChainDeprecationWarning: The function `__call__` was deprecated in LangChain 0.1.0 and will be removed in 0.2.0. Use invoke instead.\n",
      "  warn_deprecated(\n"
     ]
    },
    {
     "name": "stdout",
     "output_type": "stream",
     "text": [
      " The fall of Gondolin was a result of the siege led by Morgoth's forces, including Balrogs and other\n",
      "creatures. During this siege, there were several notable events. Ecthelion, the Elf-lord of\n",
      "Gondolin, fought against Gothmog, the Lord of Balrogs, in the city's square where they both slew\n",
      "each other. Turgon, another Elf-lord, defended the tower of his household until it was overthrown.\n",
      "Tuor, a man from Arda, attempted to rescue Idril and fought against Maeglin on the city walls. After\n",
      "their escape, Tuor and the remnants of Gondolin passed through the mountains and eventually reached\n",
      "the Vale of Sirion, where they held a feast in memory of those who had perished during the fall of\n",
      "Gondolin.\n"
     ]
    }
   ],
   "source": [
    "get_response(\"How did Gondolin fall?\", chain)"
   ]
  },
  {
   "cell_type": "code",
   "execution_count": 8,
   "metadata": {},
   "outputs": [
    {
     "name": "stdout",
     "output_type": "stream",
     "text": [
      " The Dwarves were created by Aulë in the darkness of Middle-earth before the Children of Ilúvatar\n",
      "were born. Aulë made them in secret, fearing that the other Valar might blame his work. He made the\n",
      "Seven Fathers of the Dwarves and instructed them in speech once Ilúvatar became aware of what he had\n",
      "done and was pleased with it.\n"
     ]
    }
   ],
   "source": [
    "get_response(\"How were dwarfs created?\", chain)"
   ]
  },
  {
   "cell_type": "code",
   "execution_count": 9,
   "metadata": {},
   "outputs": [
    {
     "name": "stdout",
     "output_type": "stream",
     "text": [
      " Fëanor, who is described as the most gifted of the Elves, created the Silmarills. He made them\n",
      "through a long and secret labor, summoning all his lore, power, and subtle skill. The exact\n",
      "substance from which they were made is not yet known, as it will only be revealed at the end of the\n",
      "world when Fëanor returns.\n"
     ]
    }
   ],
   "source": [
    "get_response(\"Which elf created the Silmarillions and how?\", chain)"
   ]
  },
  {
   "cell_type": "code",
   "execution_count": 10,
   "metadata": {},
   "outputs": [
    {
     "name": "stdout",
     "output_type": "stream",
     "text": [
      " The Elder Elves, or Eldalië, are a race of elves mentioned in the context provided. They include\n",
      "the Fair Elves, the Deep Elves, and the Teleri. The Fair Elves are also known as the Falmari or Sea-\n",
      "elves, who became enamored of the sea and made music beside the breaking waves. The Deep Elves are\n",
      "renowned for their wisdom and fought and labored long in the northern lands. The Teleri tarried on\n",
      "the road and were not wholly of a mind to pass from the dusk to the light of Valinor. These three\n",
      "kindreds of the Eldalië wandered in the lonely places of the great lands and isles, becoming as\n",
      "shadows and memories, except for those who ever and anon set sail into the West and vanished from\n",
      "Middle-earth. The contact between Men and Elves fore-shadows the history of later ages, and there\n",
      "are two marriages of mortal and elf that coalesce in the kindred of Eärendil, represented by Elrond\n",
      "the Half-elven.\n"
     ]
    }
   ],
   "source": [
    "get_response(\"Who were the elder elfs?\", chain)"
   ]
  }
 ],
 "metadata": {
  "kernelspec": {
   "display_name": ".venv",
   "language": "python",
   "name": "python3"
  },
  "language_info": {
   "codemirror_mode": {
    "name": "ipython",
    "version": 3
   },
   "file_extension": ".py",
   "mimetype": "text/x-python",
   "name": "python",
   "nbconvert_exporter": "python",
   "pygments_lexer": "ipython3",
   "version": "3.11.7"
  },
  "orig_nbformat": 4
 },
 "nbformat": 4,
 "nbformat_minor": 2
}
